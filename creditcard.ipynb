{
  "metadata": {
    "language_info": {
      "codemirror_mode": {
        "name": "python",
        "version": 3
      },
      "file_extension": ".py",
      "mimetype": "text/x-python",
      "name": "python",
      "nbconvert_exporter": "python",
      "pygments_lexer": "ipython3",
      "version": "3.8"
    },
    "kernelspec": {
      "name": "python",
      "display_name": "Python (Pyodide)",
      "language": "python"
    }
  },
  "nbformat_minor": 4,
  "nbformat": 4,
  "cells": [
    {
      "cell_type": "code",
      "source": "import numpy as np\nimport pandas as pd\nfrom sklearn.model_selection import train_test_split\nfrom sklearn.linear_model import LogisticRegression\nfrom sklearn.metrics import accuracy_score\nimport warnings",
      "metadata": {
        "trusted": true
      },
      "execution_count": 42,
      "outputs": []
    },
    {
      "cell_type": "code",
      "source": "credit_card_data=pd.read_csv('creditcard.csv')",
      "metadata": {
        "trusted": true
      },
      "execution_count": 2,
      "outputs": []
    },
    {
      "cell_type": "code",
      "source": "credit_card_data.head()",
      "metadata": {
        "trusted": true
      },
      "execution_count": 3,
      "outputs": [
        {
          "execution_count": 3,
          "output_type": "execute_result",
          "data": {
            "text/plain": "   Time        V1        V2        V3        V4        V5        V6        V7  \\\n0     0 -1.359807 -0.072781  2.536347  1.378155 -0.338321  0.462388  0.239599   \n1     0  1.191857  0.266151  0.166480  0.448154  0.060018 -0.082361 -0.078803   \n2     1 -1.358354 -1.340163  1.773209  0.379780 -0.503198  1.800499  0.791461   \n3     1 -0.966272 -0.185226  1.792993 -0.863291 -0.010309  1.247203  0.237609   \n4     2 -1.158233  0.877737  1.548718  0.403034 -0.407193  0.095921  0.592941   \n\n         V8        V9  ...       V21       V22       V23       V24       V25  \\\n0  0.098698  0.363787  ... -0.018307  0.277838 -0.110474  0.066928  0.128539   \n1  0.085102 -0.255425  ... -0.225775 -0.638672  0.101288 -0.339846  0.167170   \n2  0.247676 -1.514654  ...  0.247998  0.771679  0.909412 -0.689281 -0.327642   \n3  0.377436 -1.387024  ... -0.108300  0.005274 -0.190321 -1.175575  0.647376   \n4 -0.270533  0.817739  ... -0.009431  0.798278 -0.137458  0.141267 -0.206010   \n\n        V26       V27       V28  Amount  Class  \n0 -0.189115  0.133558 -0.021053  149.62    0.0  \n1  0.125895 -0.008983  0.014724    2.69    0.0  \n2 -0.139097 -0.055353 -0.059752  378.66    0.0  \n3 -0.221929  0.062723  0.061458  123.50    0.0  \n4  0.502292  0.219422  0.215153   69.99    0.0  \n\n[5 rows x 31 columns]",
            "text/html": "<div>\n<style scoped>\n    .dataframe tbody tr th:only-of-type {\n        vertical-align: middle;\n    }\n\n    .dataframe tbody tr th {\n        vertical-align: top;\n    }\n\n    .dataframe thead th {\n        text-align: right;\n    }\n</style>\n<table border=\"1\" class=\"dataframe\">\n  <thead>\n    <tr style=\"text-align: right;\">\n      <th></th>\n      <th>Time</th>\n      <th>V1</th>\n      <th>V2</th>\n      <th>V3</th>\n      <th>V4</th>\n      <th>V5</th>\n      <th>V6</th>\n      <th>V7</th>\n      <th>V8</th>\n      <th>V9</th>\n      <th>...</th>\n      <th>V21</th>\n      <th>V22</th>\n      <th>V23</th>\n      <th>V24</th>\n      <th>V25</th>\n      <th>V26</th>\n      <th>V27</th>\n      <th>V28</th>\n      <th>Amount</th>\n      <th>Class</th>\n    </tr>\n  </thead>\n  <tbody>\n    <tr>\n      <th>0</th>\n      <td>0</td>\n      <td>-1.359807</td>\n      <td>-0.072781</td>\n      <td>2.536347</td>\n      <td>1.378155</td>\n      <td>-0.338321</td>\n      <td>0.462388</td>\n      <td>0.239599</td>\n      <td>0.098698</td>\n      <td>0.363787</td>\n      <td>...</td>\n      <td>-0.018307</td>\n      <td>0.277838</td>\n      <td>-0.110474</td>\n      <td>0.066928</td>\n      <td>0.128539</td>\n      <td>-0.189115</td>\n      <td>0.133558</td>\n      <td>-0.021053</td>\n      <td>149.62</td>\n      <td>0.0</td>\n    </tr>\n    <tr>\n      <th>1</th>\n      <td>0</td>\n      <td>1.191857</td>\n      <td>0.266151</td>\n      <td>0.166480</td>\n      <td>0.448154</td>\n      <td>0.060018</td>\n      <td>-0.082361</td>\n      <td>-0.078803</td>\n      <td>0.085102</td>\n      <td>-0.255425</td>\n      <td>...</td>\n      <td>-0.225775</td>\n      <td>-0.638672</td>\n      <td>0.101288</td>\n      <td>-0.339846</td>\n      <td>0.167170</td>\n      <td>0.125895</td>\n      <td>-0.008983</td>\n      <td>0.014724</td>\n      <td>2.69</td>\n      <td>0.0</td>\n    </tr>\n    <tr>\n      <th>2</th>\n      <td>1</td>\n      <td>-1.358354</td>\n      <td>-1.340163</td>\n      <td>1.773209</td>\n      <td>0.379780</td>\n      <td>-0.503198</td>\n      <td>1.800499</td>\n      <td>0.791461</td>\n      <td>0.247676</td>\n      <td>-1.514654</td>\n      <td>...</td>\n      <td>0.247998</td>\n      <td>0.771679</td>\n      <td>0.909412</td>\n      <td>-0.689281</td>\n      <td>-0.327642</td>\n      <td>-0.139097</td>\n      <td>-0.055353</td>\n      <td>-0.059752</td>\n      <td>378.66</td>\n      <td>0.0</td>\n    </tr>\n    <tr>\n      <th>3</th>\n      <td>1</td>\n      <td>-0.966272</td>\n      <td>-0.185226</td>\n      <td>1.792993</td>\n      <td>-0.863291</td>\n      <td>-0.010309</td>\n      <td>1.247203</td>\n      <td>0.237609</td>\n      <td>0.377436</td>\n      <td>-1.387024</td>\n      <td>...</td>\n      <td>-0.108300</td>\n      <td>0.005274</td>\n      <td>-0.190321</td>\n      <td>-1.175575</td>\n      <td>0.647376</td>\n      <td>-0.221929</td>\n      <td>0.062723</td>\n      <td>0.061458</td>\n      <td>123.50</td>\n      <td>0.0</td>\n    </tr>\n    <tr>\n      <th>4</th>\n      <td>2</td>\n      <td>-1.158233</td>\n      <td>0.877737</td>\n      <td>1.548718</td>\n      <td>0.403034</td>\n      <td>-0.407193</td>\n      <td>0.095921</td>\n      <td>0.592941</td>\n      <td>-0.270533</td>\n      <td>0.817739</td>\n      <td>...</td>\n      <td>-0.009431</td>\n      <td>0.798278</td>\n      <td>-0.137458</td>\n      <td>0.141267</td>\n      <td>-0.206010</td>\n      <td>0.502292</td>\n      <td>0.219422</td>\n      <td>0.215153</td>\n      <td>69.99</td>\n      <td>0.0</td>\n    </tr>\n  </tbody>\n</table>\n<p>5 rows × 31 columns</p>\n</div>"
          },
          "metadata": {}
        }
      ]
    },
    {
      "cell_type": "code",
      "source": "#Dataset info \ncredit_card_data.info()\n",
      "metadata": {
        "trusted": true
      },
      "execution_count": 4,
      "outputs": [
        {
          "name": "stdout",
          "text": "<class 'pandas.core.frame.DataFrame'>\nRangeIndex: 47628 entries, 0 to 47627\nData columns (total 31 columns):\n #   Column  Non-Null Count  Dtype  \n---  ------  --------------  -----  \n 0   Time    47628 non-null  int64  \n 1   V1      47628 non-null  float64\n 2   V2      47628 non-null  float64\n 3   V3      47628 non-null  float64\n 4   V4      47628 non-null  float64\n 5   V5      47628 non-null  float64\n 6   V6      47628 non-null  float64\n 7   V7      47628 non-null  float64\n 8   V8      47628 non-null  float64\n 9   V9      47628 non-null  float64\n 10  V10     47628 non-null  float64\n 11  V11     47628 non-null  float64\n 12  V12     47628 non-null  float64\n 13  V13     47628 non-null  float64\n 14  V14     47628 non-null  float64\n 15  V15     47628 non-null  float64\n 16  V16     47628 non-null  float64\n 17  V17     47627 non-null  float64\n 18  V18     47627 non-null  float64\n 19  V19     47627 non-null  float64\n 20  V20     47627 non-null  float64\n 21  V21     47627 non-null  float64\n 22  V22     47627 non-null  float64\n 23  V23     47627 non-null  float64\n 24  V24     47627 non-null  float64\n 25  V25     47627 non-null  float64\n 26  V26     47627 non-null  float64\n 27  V27     47627 non-null  float64\n 28  V28     47627 non-null  float64\n 29  Amount  47627 non-null  float64\n 30  Class   47627 non-null  float64\ndtypes: float64(30), int64(1)\nmemory usage: 11.3 MB\n",
          "output_type": "stream"
        }
      ]
    },
    {
      "cell_type": "code",
      "source": "credit_card_data.tail()",
      "metadata": {
        "trusted": true
      },
      "execution_count": 6,
      "outputs": [
        {
          "execution_count": 6,
          "output_type": "execute_result",
          "data": {
            "text/plain": "        Time        V1        V2        V3        V4        V5        V6  \\\n47623  43281 -0.696585  1.108944  1.413769 -0.127104  0.018555 -0.455078   \n47624  43282 -0.282262 -1.212401  2.174897 -0.181501 -1.604027 -0.332694   \n47625  43282 -1.513495 -0.206282 -0.702405  1.056423  1.058711 -0.708973   \n47626  43282 -0.659193  1.270953  0.946464 -0.370180  1.619207 -0.288297   \n47627  43282  1.121749 -0.208202  0.660816  0.857988 -0.823614 -0.422509   \n\n             V7        V8        V9  ...       V21       V22       V23  \\\n47623  0.587554  0.113729 -0.121544  ... -0.239606 -0.547457  0.045935   \n47624 -1.154018  0.223029  0.605392  ... -0.444623 -0.224011  0.728520   \n47625  0.611571  0.249949 -0.844057  ...  0.089904  0.723147  1.244035   \n47626  1.588317 -0.492843 -0.829508  ... -0.060858 -0.028588 -0.704004   \n47627 -0.286708  0.098616  0.541126  ...       NaN       NaN       NaN   \n\n            V24       V25       V26       V27       V28  Amount  Class  \n47623  0.029361 -0.228841  0.108686  0.388269  0.173609    5.49    0.0  \n47624  0.958983 -0.712869  0.908167 -0.054453 -0.107284   10.00    0.0  \n47625 -0.526450 -0.267320 -0.336504  0.398350 -0.017047   89.99    0.0  \n47626 -0.971430  1.036058 -0.329102 -0.276970 -0.183521    0.99    0.0  \n47627       NaN       NaN       NaN       NaN       NaN     NaN    NaN  \n\n[5 rows x 31 columns]",
            "text/html": "<div>\n<style scoped>\n    .dataframe tbody tr th:only-of-type {\n        vertical-align: middle;\n    }\n\n    .dataframe tbody tr th {\n        vertical-align: top;\n    }\n\n    .dataframe thead th {\n        text-align: right;\n    }\n</style>\n<table border=\"1\" class=\"dataframe\">\n  <thead>\n    <tr style=\"text-align: right;\">\n      <th></th>\n      <th>Time</th>\n      <th>V1</th>\n      <th>V2</th>\n      <th>V3</th>\n      <th>V4</th>\n      <th>V5</th>\n      <th>V6</th>\n      <th>V7</th>\n      <th>V8</th>\n      <th>V9</th>\n      <th>...</th>\n      <th>V21</th>\n      <th>V22</th>\n      <th>V23</th>\n      <th>V24</th>\n      <th>V25</th>\n      <th>V26</th>\n      <th>V27</th>\n      <th>V28</th>\n      <th>Amount</th>\n      <th>Class</th>\n    </tr>\n  </thead>\n  <tbody>\n    <tr>\n      <th>47623</th>\n      <td>43281</td>\n      <td>-0.696585</td>\n      <td>1.108944</td>\n      <td>1.413769</td>\n      <td>-0.127104</td>\n      <td>0.018555</td>\n      <td>-0.455078</td>\n      <td>0.587554</td>\n      <td>0.113729</td>\n      <td>-0.121544</td>\n      <td>...</td>\n      <td>-0.239606</td>\n      <td>-0.547457</td>\n      <td>0.045935</td>\n      <td>0.029361</td>\n      <td>-0.228841</td>\n      <td>0.108686</td>\n      <td>0.388269</td>\n      <td>0.173609</td>\n      <td>5.49</td>\n      <td>0.0</td>\n    </tr>\n    <tr>\n      <th>47624</th>\n      <td>43282</td>\n      <td>-0.282262</td>\n      <td>-1.212401</td>\n      <td>2.174897</td>\n      <td>-0.181501</td>\n      <td>-1.604027</td>\n      <td>-0.332694</td>\n      <td>-1.154018</td>\n      <td>0.223029</td>\n      <td>0.605392</td>\n      <td>...</td>\n      <td>-0.444623</td>\n      <td>-0.224011</td>\n      <td>0.728520</td>\n      <td>0.958983</td>\n      <td>-0.712869</td>\n      <td>0.908167</td>\n      <td>-0.054453</td>\n      <td>-0.107284</td>\n      <td>10.00</td>\n      <td>0.0</td>\n    </tr>\n    <tr>\n      <th>47625</th>\n      <td>43282</td>\n      <td>-1.513495</td>\n      <td>-0.206282</td>\n      <td>-0.702405</td>\n      <td>1.056423</td>\n      <td>1.058711</td>\n      <td>-0.708973</td>\n      <td>0.611571</td>\n      <td>0.249949</td>\n      <td>-0.844057</td>\n      <td>...</td>\n      <td>0.089904</td>\n      <td>0.723147</td>\n      <td>1.244035</td>\n      <td>-0.526450</td>\n      <td>-0.267320</td>\n      <td>-0.336504</td>\n      <td>0.398350</td>\n      <td>-0.017047</td>\n      <td>89.99</td>\n      <td>0.0</td>\n    </tr>\n    <tr>\n      <th>47626</th>\n      <td>43282</td>\n      <td>-0.659193</td>\n      <td>1.270953</td>\n      <td>0.946464</td>\n      <td>-0.370180</td>\n      <td>1.619207</td>\n      <td>-0.288297</td>\n      <td>1.588317</td>\n      <td>-0.492843</td>\n      <td>-0.829508</td>\n      <td>...</td>\n      <td>-0.060858</td>\n      <td>-0.028588</td>\n      <td>-0.704004</td>\n      <td>-0.971430</td>\n      <td>1.036058</td>\n      <td>-0.329102</td>\n      <td>-0.276970</td>\n      <td>-0.183521</td>\n      <td>0.99</td>\n      <td>0.0</td>\n    </tr>\n    <tr>\n      <th>47627</th>\n      <td>43282</td>\n      <td>1.121749</td>\n      <td>-0.208202</td>\n      <td>0.660816</td>\n      <td>0.857988</td>\n      <td>-0.823614</td>\n      <td>-0.422509</td>\n      <td>-0.286708</td>\n      <td>0.098616</td>\n      <td>0.541126</td>\n      <td>...</td>\n      <td>NaN</td>\n      <td>NaN</td>\n      <td>NaN</td>\n      <td>NaN</td>\n      <td>NaN</td>\n      <td>NaN</td>\n      <td>NaN</td>\n      <td>NaN</td>\n      <td>NaN</td>\n      <td>NaN</td>\n    </tr>\n  </tbody>\n</table>\n<p>5 rows × 31 columns</p>\n</div>"
          },
          "metadata": {}
        }
      ]
    },
    {
      "cell_type": "code",
      "source": "# statistical measures \ncredit_card_data.describe() ",
      "metadata": {
        "trusted": true
      },
      "execution_count": 7,
      "outputs": [
        {
          "execution_count": 7,
          "output_type": "execute_result",
          "data": {
            "text/plain": "               Time            V1            V2            V3            V4  \\\ncount  47628.000000  47628.000000  47628.000000  47628.000000  47628.000000   \nmean   28183.123562     -0.240703      0.021469      0.694689      0.191074   \nstd    13001.722320      1.884794      1.626518      1.519894      1.402196   \nmin        0.000000    -56.407510    -72.715728    -32.965346     -5.172595   \n25%    20517.000000     -0.990001     -0.548684      0.220594     -0.714455   \n50%    32930.500000     -0.248789      0.085468      0.800243      0.195142   \n75%    38236.000000      1.156434      0.736933      1.432158      1.070576   \nmax    43282.000000      1.960497     18.183626      4.101716     16.491217   \n\n                 V5            V6            V7            V8            V9  \\\ncount  47628.000000  47628.000000  47628.000000  47628.000000  47628.000000   \nmean      -0.249837      0.102310     -0.119867      0.053450      0.141204   \nstd        1.412854      1.309931      1.282101      1.216930      1.214104   \nmin      -42.147898    -26.160506    -26.548144    -41.484823     -9.283925   \n25%       -0.857297     -0.636473     -0.602224     -0.146950     -0.597975   \n50%       -0.282244     -0.152017     -0.074952      0.057092      0.026153   \n75%        0.286638      0.492728      0.425886      0.329612      0.837269   \nmax       34.801666     22.529298     36.677268     20.007208     10.392889   \n\n       ...           V21           V22           V23           V24  \\\ncount  ...  47627.000000  47627.000000  47627.000000  47627.000000   \nmean   ...     -0.027059     -0.107091     -0.039399      0.007890   \nstd    ...      0.737251      0.637200      0.579666      0.594175   \nmin    ...    -20.262054     -8.593642    -26.751119     -2.836627   \n25%    ...     -0.231991     -0.528167     -0.179247     -0.322459   \n50%    ...     -0.069134     -0.081945     -0.051439      0.061661   \n75%    ...      0.107256      0.306116      0.078475      0.401231   \nmax    ...     22.614889      5.805795     17.297845      4.014444   \n\n                V25           V26           V27           V28        Amount  \\\ncount  47627.000000  47627.000000  47627.000000  47627.000000  47627.000000   \nmean       0.136314      0.022561      0.004907      0.004021     91.777163   \nstd        0.438367      0.502411      0.388191      0.335275    249.818013   \nmin       -7.495741     -1.577118     -8.567638     -9.617915      0.000000   \n25%       -0.128057     -0.329467     -0.063838     -0.006862      7.590000   \n50%        0.175871     -0.068195      0.008665      0.021873     24.990000   \n75%        0.421741      0.302743      0.083933      0.076168     83.110000   \nmax        5.525093      3.517346     11.135740     33.847808  12910.930000   \n\n              Class  \ncount  47627.000000  \nmean       0.003065  \nstd        0.055283  \nmin        0.000000  \n25%        0.000000  \n50%        0.000000  \n75%        0.000000  \nmax        1.000000  \n\n[8 rows x 31 columns]",
            "text/html": "<div>\n<style scoped>\n    .dataframe tbody tr th:only-of-type {\n        vertical-align: middle;\n    }\n\n    .dataframe tbody tr th {\n        vertical-align: top;\n    }\n\n    .dataframe thead th {\n        text-align: right;\n    }\n</style>\n<table border=\"1\" class=\"dataframe\">\n  <thead>\n    <tr style=\"text-align: right;\">\n      <th></th>\n      <th>Time</th>\n      <th>V1</th>\n      <th>V2</th>\n      <th>V3</th>\n      <th>V4</th>\n      <th>V5</th>\n      <th>V6</th>\n      <th>V7</th>\n      <th>V8</th>\n      <th>V9</th>\n      <th>...</th>\n      <th>V21</th>\n      <th>V22</th>\n      <th>V23</th>\n      <th>V24</th>\n      <th>V25</th>\n      <th>V26</th>\n      <th>V27</th>\n      <th>V28</th>\n      <th>Amount</th>\n      <th>Class</th>\n    </tr>\n  </thead>\n  <tbody>\n    <tr>\n      <th>count</th>\n      <td>47628.000000</td>\n      <td>47628.000000</td>\n      <td>47628.000000</td>\n      <td>47628.000000</td>\n      <td>47628.000000</td>\n      <td>47628.000000</td>\n      <td>47628.000000</td>\n      <td>47628.000000</td>\n      <td>47628.000000</td>\n      <td>47628.000000</td>\n      <td>...</td>\n      <td>47627.000000</td>\n      <td>47627.000000</td>\n      <td>47627.000000</td>\n      <td>47627.000000</td>\n      <td>47627.000000</td>\n      <td>47627.000000</td>\n      <td>47627.000000</td>\n      <td>47627.000000</td>\n      <td>47627.000000</td>\n      <td>47627.000000</td>\n    </tr>\n    <tr>\n      <th>mean</th>\n      <td>28183.123562</td>\n      <td>-0.240703</td>\n      <td>0.021469</td>\n      <td>0.694689</td>\n      <td>0.191074</td>\n      <td>-0.249837</td>\n      <td>0.102310</td>\n      <td>-0.119867</td>\n      <td>0.053450</td>\n      <td>0.141204</td>\n      <td>...</td>\n      <td>-0.027059</td>\n      <td>-0.107091</td>\n      <td>-0.039399</td>\n      <td>0.007890</td>\n      <td>0.136314</td>\n      <td>0.022561</td>\n      <td>0.004907</td>\n      <td>0.004021</td>\n      <td>91.777163</td>\n      <td>0.003065</td>\n    </tr>\n    <tr>\n      <th>std</th>\n      <td>13001.722320</td>\n      <td>1.884794</td>\n      <td>1.626518</td>\n      <td>1.519894</td>\n      <td>1.402196</td>\n      <td>1.412854</td>\n      <td>1.309931</td>\n      <td>1.282101</td>\n      <td>1.216930</td>\n      <td>1.214104</td>\n      <td>...</td>\n      <td>0.737251</td>\n      <td>0.637200</td>\n      <td>0.579666</td>\n      <td>0.594175</td>\n      <td>0.438367</td>\n      <td>0.502411</td>\n      <td>0.388191</td>\n      <td>0.335275</td>\n      <td>249.818013</td>\n      <td>0.055283</td>\n    </tr>\n    <tr>\n      <th>min</th>\n      <td>0.000000</td>\n      <td>-56.407510</td>\n      <td>-72.715728</td>\n      <td>-32.965346</td>\n      <td>-5.172595</td>\n      <td>-42.147898</td>\n      <td>-26.160506</td>\n      <td>-26.548144</td>\n      <td>-41.484823</td>\n      <td>-9.283925</td>\n      <td>...</td>\n      <td>-20.262054</td>\n      <td>-8.593642</td>\n      <td>-26.751119</td>\n      <td>-2.836627</td>\n      <td>-7.495741</td>\n      <td>-1.577118</td>\n      <td>-8.567638</td>\n      <td>-9.617915</td>\n      <td>0.000000</td>\n      <td>0.000000</td>\n    </tr>\n    <tr>\n      <th>25%</th>\n      <td>20517.000000</td>\n      <td>-0.990001</td>\n      <td>-0.548684</td>\n      <td>0.220594</td>\n      <td>-0.714455</td>\n      <td>-0.857297</td>\n      <td>-0.636473</td>\n      <td>-0.602224</td>\n      <td>-0.146950</td>\n      <td>-0.597975</td>\n      <td>...</td>\n      <td>-0.231991</td>\n      <td>-0.528167</td>\n      <td>-0.179247</td>\n      <td>-0.322459</td>\n      <td>-0.128057</td>\n      <td>-0.329467</td>\n      <td>-0.063838</td>\n      <td>-0.006862</td>\n      <td>7.590000</td>\n      <td>0.000000</td>\n    </tr>\n    <tr>\n      <th>50%</th>\n      <td>32930.500000</td>\n      <td>-0.248789</td>\n      <td>0.085468</td>\n      <td>0.800243</td>\n      <td>0.195142</td>\n      <td>-0.282244</td>\n      <td>-0.152017</td>\n      <td>-0.074952</td>\n      <td>0.057092</td>\n      <td>0.026153</td>\n      <td>...</td>\n      <td>-0.069134</td>\n      <td>-0.081945</td>\n      <td>-0.051439</td>\n      <td>0.061661</td>\n      <td>0.175871</td>\n      <td>-0.068195</td>\n      <td>0.008665</td>\n      <td>0.021873</td>\n      <td>24.990000</td>\n      <td>0.000000</td>\n    </tr>\n    <tr>\n      <th>75%</th>\n      <td>38236.000000</td>\n      <td>1.156434</td>\n      <td>0.736933</td>\n      <td>1.432158</td>\n      <td>1.070576</td>\n      <td>0.286638</td>\n      <td>0.492728</td>\n      <td>0.425886</td>\n      <td>0.329612</td>\n      <td>0.837269</td>\n      <td>...</td>\n      <td>0.107256</td>\n      <td>0.306116</td>\n      <td>0.078475</td>\n      <td>0.401231</td>\n      <td>0.421741</td>\n      <td>0.302743</td>\n      <td>0.083933</td>\n      <td>0.076168</td>\n      <td>83.110000</td>\n      <td>0.000000</td>\n    </tr>\n    <tr>\n      <th>max</th>\n      <td>43282.000000</td>\n      <td>1.960497</td>\n      <td>18.183626</td>\n      <td>4.101716</td>\n      <td>16.491217</td>\n      <td>34.801666</td>\n      <td>22.529298</td>\n      <td>36.677268</td>\n      <td>20.007208</td>\n      <td>10.392889</td>\n      <td>...</td>\n      <td>22.614889</td>\n      <td>5.805795</td>\n      <td>17.297845</td>\n      <td>4.014444</td>\n      <td>5.525093</td>\n      <td>3.517346</td>\n      <td>11.135740</td>\n      <td>33.847808</td>\n      <td>12910.930000</td>\n      <td>1.000000</td>\n    </tr>\n  </tbody>\n</table>\n<p>8 rows × 31 columns</p>\n</div>"
          },
          "metadata": {}
        }
      ]
    },
    {
      "cell_type": "code",
      "source": "# checking the number of missing values in each column\ncredit_card_data.isnull().sum()",
      "metadata": {
        "trusted": true
      },
      "execution_count": 8,
      "outputs": [
        {
          "execution_count": 8,
          "output_type": "execute_result",
          "data": {
            "text/plain": "Time      0\nV1        0\nV2        0\nV3        0\nV4        0\nV5        0\nV6        0\nV7        0\nV8        0\nV9        0\nV10       0\nV11       0\nV12       0\nV13       0\nV14       0\nV15       0\nV16       0\nV17       1\nV18       1\nV19       1\nV20       1\nV21       1\nV22       1\nV23       1\nV24       1\nV25       1\nV26       1\nV27       1\nV28       1\nAmount    1\nClass     1\ndtype: int64"
          },
          "metadata": {}
        }
      ]
    },
    {
      "cell_type": "code",
      "source": "credit_card_data['Class'].value_counts()",
      "metadata": {
        "trusted": true
      },
      "execution_count": 9,
      "outputs": [
        {
          "execution_count": 9,
          "output_type": "execute_result",
          "data": {
            "text/plain": "0.0    47481\n1.0      146\nName: Class, dtype: int64"
          },
          "metadata": {}
        }
      ]
    },
    {
      "cell_type": "code",
      "source": "# separating the data for analysis\nlegit = credit_card_data[credit_card_data.Class == 0]\nfraud = credit_card_data[credit_card_data.Class == 1]",
      "metadata": {
        "trusted": true
      },
      "execution_count": 11,
      "outputs": []
    },
    {
      "cell_type": "code",
      "source": "print(legit.shape)\nprint(fraud.shape)\nfraud.head()\n",
      "metadata": {
        "trusted": true
      },
      "execution_count": 23,
      "outputs": [
        {
          "name": "stdout",
          "text": "(47481, 31)\n(146, 31)\n",
          "output_type": "stream"
        },
        {
          "execution_count": 23,
          "output_type": "execute_result",
          "data": {
            "text/plain": "      Time        V1        V2        V3        V4        V5        V6  \\\n541    406 -2.312227  1.951992 -1.609851  3.997906 -0.522188 -1.426545   \n623    472 -3.043541 -3.157307  1.088463  2.288644  1.359805 -1.064823   \n4920  4462 -2.303350  1.759247 -0.359745  2.330243 -0.821628 -0.075788   \n6108  6986 -4.397974  1.358367 -2.592844  2.679787 -1.128131 -1.706536   \n6329  7519  1.234235  3.019740 -4.304597  4.732795  3.624201 -1.357746   \n\n            V7        V8        V9  ...       V21       V22       V23  \\\n541  -2.537387  1.391657 -2.770089  ...  0.517232 -0.035049 -0.465211   \n623   0.325574 -0.067794 -0.270953  ...  0.661696  0.435477  1.375966   \n4920  0.562320 -0.399147 -0.238253  ... -0.294166 -0.932391  0.172726   \n6108 -3.496197 -0.248778 -0.247768  ...  0.573574  0.176968 -0.436207   \n6329  1.713445 -0.496358 -1.282858  ... -0.379068 -0.704181 -0.656805   \n\n           V24       V25       V26       V27       V28  Amount  Class  \n541   0.320198  0.044519  0.177840  0.261145 -0.143276    0.00    1.0  \n623  -0.293803  0.279798 -0.145362 -0.252773  0.035764  529.00    1.0  \n4920 -0.087330 -0.156114 -0.542628  0.039566 -0.153029  239.93    1.0  \n6108 -0.053502  0.252405 -0.657488 -0.827136  0.849573   59.00    1.0  \n6329 -1.632653  1.488901  0.566797 -0.010016  0.146793    1.00    1.0  \n\n[5 rows x 31 columns]",
            "text/html": "<div>\n<style scoped>\n    .dataframe tbody tr th:only-of-type {\n        vertical-align: middle;\n    }\n\n    .dataframe tbody tr th {\n        vertical-align: top;\n    }\n\n    .dataframe thead th {\n        text-align: right;\n    }\n</style>\n<table border=\"1\" class=\"dataframe\">\n  <thead>\n    <tr style=\"text-align: right;\">\n      <th></th>\n      <th>Time</th>\n      <th>V1</th>\n      <th>V2</th>\n      <th>V3</th>\n      <th>V4</th>\n      <th>V5</th>\n      <th>V6</th>\n      <th>V7</th>\n      <th>V8</th>\n      <th>V9</th>\n      <th>...</th>\n      <th>V21</th>\n      <th>V22</th>\n      <th>V23</th>\n      <th>V24</th>\n      <th>V25</th>\n      <th>V26</th>\n      <th>V27</th>\n      <th>V28</th>\n      <th>Amount</th>\n      <th>Class</th>\n    </tr>\n  </thead>\n  <tbody>\n    <tr>\n      <th>541</th>\n      <td>406</td>\n      <td>-2.312227</td>\n      <td>1.951992</td>\n      <td>-1.609851</td>\n      <td>3.997906</td>\n      <td>-0.522188</td>\n      <td>-1.426545</td>\n      <td>-2.537387</td>\n      <td>1.391657</td>\n      <td>-2.770089</td>\n      <td>...</td>\n      <td>0.517232</td>\n      <td>-0.035049</td>\n      <td>-0.465211</td>\n      <td>0.320198</td>\n      <td>0.044519</td>\n      <td>0.177840</td>\n      <td>0.261145</td>\n      <td>-0.143276</td>\n      <td>0.00</td>\n      <td>1.0</td>\n    </tr>\n    <tr>\n      <th>623</th>\n      <td>472</td>\n      <td>-3.043541</td>\n      <td>-3.157307</td>\n      <td>1.088463</td>\n      <td>2.288644</td>\n      <td>1.359805</td>\n      <td>-1.064823</td>\n      <td>0.325574</td>\n      <td>-0.067794</td>\n      <td>-0.270953</td>\n      <td>...</td>\n      <td>0.661696</td>\n      <td>0.435477</td>\n      <td>1.375966</td>\n      <td>-0.293803</td>\n      <td>0.279798</td>\n      <td>-0.145362</td>\n      <td>-0.252773</td>\n      <td>0.035764</td>\n      <td>529.00</td>\n      <td>1.0</td>\n    </tr>\n    <tr>\n      <th>4920</th>\n      <td>4462</td>\n      <td>-2.303350</td>\n      <td>1.759247</td>\n      <td>-0.359745</td>\n      <td>2.330243</td>\n      <td>-0.821628</td>\n      <td>-0.075788</td>\n      <td>0.562320</td>\n      <td>-0.399147</td>\n      <td>-0.238253</td>\n      <td>...</td>\n      <td>-0.294166</td>\n      <td>-0.932391</td>\n      <td>0.172726</td>\n      <td>-0.087330</td>\n      <td>-0.156114</td>\n      <td>-0.542628</td>\n      <td>0.039566</td>\n      <td>-0.153029</td>\n      <td>239.93</td>\n      <td>1.0</td>\n    </tr>\n    <tr>\n      <th>6108</th>\n      <td>6986</td>\n      <td>-4.397974</td>\n      <td>1.358367</td>\n      <td>-2.592844</td>\n      <td>2.679787</td>\n      <td>-1.128131</td>\n      <td>-1.706536</td>\n      <td>-3.496197</td>\n      <td>-0.248778</td>\n      <td>-0.247768</td>\n      <td>...</td>\n      <td>0.573574</td>\n      <td>0.176968</td>\n      <td>-0.436207</td>\n      <td>-0.053502</td>\n      <td>0.252405</td>\n      <td>-0.657488</td>\n      <td>-0.827136</td>\n      <td>0.849573</td>\n      <td>59.00</td>\n      <td>1.0</td>\n    </tr>\n    <tr>\n      <th>6329</th>\n      <td>7519</td>\n      <td>1.234235</td>\n      <td>3.019740</td>\n      <td>-4.304597</td>\n      <td>4.732795</td>\n      <td>3.624201</td>\n      <td>-1.357746</td>\n      <td>1.713445</td>\n      <td>-0.496358</td>\n      <td>-1.282858</td>\n      <td>...</td>\n      <td>-0.379068</td>\n      <td>-0.704181</td>\n      <td>-0.656805</td>\n      <td>-1.632653</td>\n      <td>1.488901</td>\n      <td>0.566797</td>\n      <td>-0.010016</td>\n      <td>0.146793</td>\n      <td>1.00</td>\n      <td>1.0</td>\n    </tr>\n  </tbody>\n</table>\n<p>5 rows × 31 columns</p>\n</div>"
          },
          "metadata": {}
        }
      ]
    },
    {
      "cell_type": "code",
      "source": "legit.Amount.describe()",
      "metadata": {
        "trusted": true
      },
      "execution_count": 16,
      "outputs": [
        {
          "execution_count": 16,
          "output_type": "execute_result",
          "data": {
            "text/plain": "count    47481.000000\nmean        91.749512\nstd        249.864438\nmin          0.000000\n25%          7.600000\n50%         24.990000\n75%         83.000000\nmax      12910.930000\nName: Amount, dtype: float64"
          },
          "metadata": {}
        }
      ]
    },
    {
      "cell_type": "code",
      "source": "fraud.Amount.describe()",
      "metadata": {
        "trusted": true
      },
      "execution_count": 17,
      "outputs": [
        {
          "execution_count": 17,
          "output_type": "execute_result",
          "data": {
            "text/plain": "count     146.000000\nmean      100.769589\nstd       234.865142\nmin         0.000000\n25%         1.000000\n50%         8.370000\n75%        99.990000\nmax      1809.680000\nName: Amount, dtype: float64"
          },
          "metadata": {}
        }
      ]
    },
    {
      "cell_type": "code",
      "source": "credit_card_data.groupby('Class').mean()",
      "metadata": {
        "trusted": true
      },
      "execution_count": 18,
      "outputs": [
        {
          "execution_count": 18,
          "output_type": "execute_result",
          "data": {
            "text/plain": "               Time        V1        V2         V3        V4        V5  \\\nClass                                                                    \n0.0    28187.518523 -0.217647  0.004622   0.729134  0.173144 -0.232960   \n1.0    26650.410959 -7.748350  5.502036 -10.507153  6.017631 -5.734345   \n\n             V6        V7        V8        V9  ...       V20       V21  \\\nClass                                          ...                       \n0.0    0.109679 -0.095198  0.041927  0.152781  ...  0.046262 -0.029852   \n1.0   -2.290523 -8.141188  3.800624 -3.626437  ...  0.471417  0.881448   \n\n            V22       V23       V24       V25       V26       V27       V28  \\\nClass                                                                         \n0.0   -0.106718 -0.038640  0.008178  0.135952  0.022116  0.003026  0.003920   \n1.0   -0.228124 -0.286066 -0.085893  0.253943  0.167237  0.616539  0.037065   \n\n           Amount  \nClass              \n0.0     91.749512  \n1.0    100.769589  \n\n[2 rows x 30 columns]",
            "text/html": "<div>\n<style scoped>\n    .dataframe tbody tr th:only-of-type {\n        vertical-align: middle;\n    }\n\n    .dataframe tbody tr th {\n        vertical-align: top;\n    }\n\n    .dataframe thead th {\n        text-align: right;\n    }\n</style>\n<table border=\"1\" class=\"dataframe\">\n  <thead>\n    <tr style=\"text-align: right;\">\n      <th></th>\n      <th>Time</th>\n      <th>V1</th>\n      <th>V2</th>\n      <th>V3</th>\n      <th>V4</th>\n      <th>V5</th>\n      <th>V6</th>\n      <th>V7</th>\n      <th>V8</th>\n      <th>V9</th>\n      <th>...</th>\n      <th>V20</th>\n      <th>V21</th>\n      <th>V22</th>\n      <th>V23</th>\n      <th>V24</th>\n      <th>V25</th>\n      <th>V26</th>\n      <th>V27</th>\n      <th>V28</th>\n      <th>Amount</th>\n    </tr>\n    <tr>\n      <th>Class</th>\n      <th></th>\n      <th></th>\n      <th></th>\n      <th></th>\n      <th></th>\n      <th></th>\n      <th></th>\n      <th></th>\n      <th></th>\n      <th></th>\n      <th></th>\n      <th></th>\n      <th></th>\n      <th></th>\n      <th></th>\n      <th></th>\n      <th></th>\n      <th></th>\n      <th></th>\n      <th></th>\n      <th></th>\n    </tr>\n  </thead>\n  <tbody>\n    <tr>\n      <th>0.0</th>\n      <td>28187.518523</td>\n      <td>-0.217647</td>\n      <td>0.004622</td>\n      <td>0.729134</td>\n      <td>0.173144</td>\n      <td>-0.232960</td>\n      <td>0.109679</td>\n      <td>-0.095198</td>\n      <td>0.041927</td>\n      <td>0.152781</td>\n      <td>...</td>\n      <td>0.046262</td>\n      <td>-0.029852</td>\n      <td>-0.106718</td>\n      <td>-0.038640</td>\n      <td>0.008178</td>\n      <td>0.135952</td>\n      <td>0.022116</td>\n      <td>0.003026</td>\n      <td>0.003920</td>\n      <td>91.749512</td>\n    </tr>\n    <tr>\n      <th>1.0</th>\n      <td>26650.410959</td>\n      <td>-7.748350</td>\n      <td>5.502036</td>\n      <td>-10.507153</td>\n      <td>6.017631</td>\n      <td>-5.734345</td>\n      <td>-2.290523</td>\n      <td>-8.141188</td>\n      <td>3.800624</td>\n      <td>-3.626437</td>\n      <td>...</td>\n      <td>0.471417</td>\n      <td>0.881448</td>\n      <td>-0.228124</td>\n      <td>-0.286066</td>\n      <td>-0.085893</td>\n      <td>0.253943</td>\n      <td>0.167237</td>\n      <td>0.616539</td>\n      <td>0.037065</td>\n      <td>100.769589</td>\n    </tr>\n  </tbody>\n</table>\n<p>2 rows × 30 columns</p>\n</div>"
          },
          "metadata": {}
        }
      ]
    },
    {
      "cell_type": "code",
      "source": "#a sample dataset containing similar distribution of normal transactions and Fraudulent Transactions\n#Number of Fraudulent Transactions --> 146\nlegit_sample = legit.sample(n=146)",
      "metadata": {
        "trusted": true
      },
      "execution_count": 19,
      "outputs": []
    },
    {
      "cell_type": "code",
      "source": "#Concatenating two DataFrames\nnew_dataset = pd.concat([legit_sample, fraud], axis=0)\nnew_dataset.head()\n#Concatenating the DataFrames can be helpful for tasks like building a machine learning model to detect fraudulent transactions. By combining legitimate and fraudulent transactions in a single dataset, you can ensure that the model learns from both types of examples and has a balanced representation of the classes, which can lead to more accurate predictions.",
      "metadata": {
        "trusted": true
      },
      "execution_count": 22,
      "outputs": [
        {
          "execution_count": 22,
          "output_type": "execute_result",
          "data": {
            "text/plain": "      Time        V1        V2        V3        V4        V5        V6  \\\n541    406 -2.312227  1.951992 -1.609851  3.997906 -0.522188 -1.426545   \n623    472 -3.043541 -3.157307  1.088463  2.288644  1.359805 -1.064823   \n4920  4462 -2.303350  1.759247 -0.359745  2.330243 -0.821628 -0.075788   \n6108  6986 -4.397974  1.358367 -2.592844  2.679787 -1.128131 -1.706536   \n6329  7519  1.234235  3.019740 -4.304597  4.732795  3.624201 -1.357746   \n\n            V7        V8        V9  ...       V21       V22       V23  \\\n541  -2.537387  1.391657 -2.770089  ...  0.517232 -0.035049 -0.465211   \n623   0.325574 -0.067794 -0.270953  ...  0.661696  0.435477  1.375966   \n4920  0.562320 -0.399147 -0.238253  ... -0.294166 -0.932391  0.172726   \n6108 -3.496197 -0.248778 -0.247768  ...  0.573574  0.176968 -0.436207   \n6329  1.713445 -0.496358 -1.282858  ... -0.379068 -0.704181 -0.656805   \n\n           V24       V25       V26       V27       V28  Amount  Class  \n541   0.320198  0.044519  0.177840  0.261145 -0.143276    0.00    1.0  \n623  -0.293803  0.279798 -0.145362 -0.252773  0.035764  529.00    1.0  \n4920 -0.087330 -0.156114 -0.542628  0.039566 -0.153029  239.93    1.0  \n6108 -0.053502  0.252405 -0.657488 -0.827136  0.849573   59.00    1.0  \n6329 -1.632653  1.488901  0.566797 -0.010016  0.146793    1.00    1.0  \n\n[5 rows x 31 columns]",
            "text/html": "<div>\n<style scoped>\n    .dataframe tbody tr th:only-of-type {\n        vertical-align: middle;\n    }\n\n    .dataframe tbody tr th {\n        vertical-align: top;\n    }\n\n    .dataframe thead th {\n        text-align: right;\n    }\n</style>\n<table border=\"1\" class=\"dataframe\">\n  <thead>\n    <tr style=\"text-align: right;\">\n      <th></th>\n      <th>Time</th>\n      <th>V1</th>\n      <th>V2</th>\n      <th>V3</th>\n      <th>V4</th>\n      <th>V5</th>\n      <th>V6</th>\n      <th>V7</th>\n      <th>V8</th>\n      <th>V9</th>\n      <th>...</th>\n      <th>V21</th>\n      <th>V22</th>\n      <th>V23</th>\n      <th>V24</th>\n      <th>V25</th>\n      <th>V26</th>\n      <th>V27</th>\n      <th>V28</th>\n      <th>Amount</th>\n      <th>Class</th>\n    </tr>\n  </thead>\n  <tbody>\n    <tr>\n      <th>541</th>\n      <td>406</td>\n      <td>-2.312227</td>\n      <td>1.951992</td>\n      <td>-1.609851</td>\n      <td>3.997906</td>\n      <td>-0.522188</td>\n      <td>-1.426545</td>\n      <td>-2.537387</td>\n      <td>1.391657</td>\n      <td>-2.770089</td>\n      <td>...</td>\n      <td>0.517232</td>\n      <td>-0.035049</td>\n      <td>-0.465211</td>\n      <td>0.320198</td>\n      <td>0.044519</td>\n      <td>0.177840</td>\n      <td>0.261145</td>\n      <td>-0.143276</td>\n      <td>0.00</td>\n      <td>1.0</td>\n    </tr>\n    <tr>\n      <th>623</th>\n      <td>472</td>\n      <td>-3.043541</td>\n      <td>-3.157307</td>\n      <td>1.088463</td>\n      <td>2.288644</td>\n      <td>1.359805</td>\n      <td>-1.064823</td>\n      <td>0.325574</td>\n      <td>-0.067794</td>\n      <td>-0.270953</td>\n      <td>...</td>\n      <td>0.661696</td>\n      <td>0.435477</td>\n      <td>1.375966</td>\n      <td>-0.293803</td>\n      <td>0.279798</td>\n      <td>-0.145362</td>\n      <td>-0.252773</td>\n      <td>0.035764</td>\n      <td>529.00</td>\n      <td>1.0</td>\n    </tr>\n    <tr>\n      <th>4920</th>\n      <td>4462</td>\n      <td>-2.303350</td>\n      <td>1.759247</td>\n      <td>-0.359745</td>\n      <td>2.330243</td>\n      <td>-0.821628</td>\n      <td>-0.075788</td>\n      <td>0.562320</td>\n      <td>-0.399147</td>\n      <td>-0.238253</td>\n      <td>...</td>\n      <td>-0.294166</td>\n      <td>-0.932391</td>\n      <td>0.172726</td>\n      <td>-0.087330</td>\n      <td>-0.156114</td>\n      <td>-0.542628</td>\n      <td>0.039566</td>\n      <td>-0.153029</td>\n      <td>239.93</td>\n      <td>1.0</td>\n    </tr>\n    <tr>\n      <th>6108</th>\n      <td>6986</td>\n      <td>-4.397974</td>\n      <td>1.358367</td>\n      <td>-2.592844</td>\n      <td>2.679787</td>\n      <td>-1.128131</td>\n      <td>-1.706536</td>\n      <td>-3.496197</td>\n      <td>-0.248778</td>\n      <td>-0.247768</td>\n      <td>...</td>\n      <td>0.573574</td>\n      <td>0.176968</td>\n      <td>-0.436207</td>\n      <td>-0.053502</td>\n      <td>0.252405</td>\n      <td>-0.657488</td>\n      <td>-0.827136</td>\n      <td>0.849573</td>\n      <td>59.00</td>\n      <td>1.0</td>\n    </tr>\n    <tr>\n      <th>6329</th>\n      <td>7519</td>\n      <td>1.234235</td>\n      <td>3.019740</td>\n      <td>-4.304597</td>\n      <td>4.732795</td>\n      <td>3.624201</td>\n      <td>-1.357746</td>\n      <td>1.713445</td>\n      <td>-0.496358</td>\n      <td>-1.282858</td>\n      <td>...</td>\n      <td>-0.379068</td>\n      <td>-0.704181</td>\n      <td>-0.656805</td>\n      <td>-1.632653</td>\n      <td>1.488901</td>\n      <td>0.566797</td>\n      <td>-0.010016</td>\n      <td>0.146793</td>\n      <td>1.00</td>\n      <td>1.0</td>\n    </tr>\n  </tbody>\n</table>\n<p>5 rows × 31 columns</p>\n</div>"
          },
          "metadata": {}
        }
      ]
    },
    {
      "cell_type": "code",
      "source": "new_dataset.tail()",
      "metadata": {
        "trusted": true
      },
      "execution_count": 24,
      "outputs": [
        {
          "execution_count": 24,
          "output_type": "execute_result",
          "data": {
            "text/plain": "        Time        V1        V2        V3        V4        V5        V6  \\\n45203  42247 -2.524012  2.098152 -4.946075  6.456588  3.173921 -3.058806   \n45732  42474 -3.843009  3.375110 -5.492893  6.136378  2.797195 -2.646162   \n46909  42985 -4.075975  0.963031 -5.076070  4.955963 -0.161437 -2.832663   \n46918  42988 -4.423508  1.648048 -6.934388  4.894601 -5.078131  0.010849   \n46998  43028 -1.109646  0.811069 -1.138135  0.935265 -2.330248 -0.116106   \n\n             V7        V8        V9  ...       V21       V22       V23  \\\n45203 -0.184710 -0.390420 -3.649812  ...  0.027935  0.220366  0.976348   \n45732 -1.668931 -2.617552 -3.945843  ... -1.277812  0.719652  0.451125   \n46909 -7.619765  1.618895 -2.992092  ...  1.030738  0.165328 -1.017502   \n46918 -3.409096  1.409291 -3.260672  ...  0.698359  0.487478  1.228698   \n46998 -1.621986  0.458028 -0.912189  ...  0.641594  0.841755  0.176728   \n\n            V24       V25       V26       V27       V28  Amount  Class  \n45203 -0.290539  1.161002  0.663954  0.456023 -0.405682    1.00    1.0  \n45732 -0.258094  0.656129  0.556676  0.739383 -0.203050    1.00    1.0  \n46909 -0.477983 -0.304987 -0.106089  1.899714  0.511462    1.00    1.0  \n46918 -0.535217  0.388278 -0.009466  2.300164  0.081231  648.00    1.0  \n46998  0.081004 -0.258899  0.707654  0.418649  0.080756  204.27    1.0  \n\n[5 rows x 31 columns]",
            "text/html": "<div>\n<style scoped>\n    .dataframe tbody tr th:only-of-type {\n        vertical-align: middle;\n    }\n\n    .dataframe tbody tr th {\n        vertical-align: top;\n    }\n\n    .dataframe thead th {\n        text-align: right;\n    }\n</style>\n<table border=\"1\" class=\"dataframe\">\n  <thead>\n    <tr style=\"text-align: right;\">\n      <th></th>\n      <th>Time</th>\n      <th>V1</th>\n      <th>V2</th>\n      <th>V3</th>\n      <th>V4</th>\n      <th>V5</th>\n      <th>V6</th>\n      <th>V7</th>\n      <th>V8</th>\n      <th>V9</th>\n      <th>...</th>\n      <th>V21</th>\n      <th>V22</th>\n      <th>V23</th>\n      <th>V24</th>\n      <th>V25</th>\n      <th>V26</th>\n      <th>V27</th>\n      <th>V28</th>\n      <th>Amount</th>\n      <th>Class</th>\n    </tr>\n  </thead>\n  <tbody>\n    <tr>\n      <th>45203</th>\n      <td>42247</td>\n      <td>-2.524012</td>\n      <td>2.098152</td>\n      <td>-4.946075</td>\n      <td>6.456588</td>\n      <td>3.173921</td>\n      <td>-3.058806</td>\n      <td>-0.184710</td>\n      <td>-0.390420</td>\n      <td>-3.649812</td>\n      <td>...</td>\n      <td>0.027935</td>\n      <td>0.220366</td>\n      <td>0.976348</td>\n      <td>-0.290539</td>\n      <td>1.161002</td>\n      <td>0.663954</td>\n      <td>0.456023</td>\n      <td>-0.405682</td>\n      <td>1.00</td>\n      <td>1.0</td>\n    </tr>\n    <tr>\n      <th>45732</th>\n      <td>42474</td>\n      <td>-3.843009</td>\n      <td>3.375110</td>\n      <td>-5.492893</td>\n      <td>6.136378</td>\n      <td>2.797195</td>\n      <td>-2.646162</td>\n      <td>-1.668931</td>\n      <td>-2.617552</td>\n      <td>-3.945843</td>\n      <td>...</td>\n      <td>-1.277812</td>\n      <td>0.719652</td>\n      <td>0.451125</td>\n      <td>-0.258094</td>\n      <td>0.656129</td>\n      <td>0.556676</td>\n      <td>0.739383</td>\n      <td>-0.203050</td>\n      <td>1.00</td>\n      <td>1.0</td>\n    </tr>\n    <tr>\n      <th>46909</th>\n      <td>42985</td>\n      <td>-4.075975</td>\n      <td>0.963031</td>\n      <td>-5.076070</td>\n      <td>4.955963</td>\n      <td>-0.161437</td>\n      <td>-2.832663</td>\n      <td>-7.619765</td>\n      <td>1.618895</td>\n      <td>-2.992092</td>\n      <td>...</td>\n      <td>1.030738</td>\n      <td>0.165328</td>\n      <td>-1.017502</td>\n      <td>-0.477983</td>\n      <td>-0.304987</td>\n      <td>-0.106089</td>\n      <td>1.899714</td>\n      <td>0.511462</td>\n      <td>1.00</td>\n      <td>1.0</td>\n    </tr>\n    <tr>\n      <th>46918</th>\n      <td>42988</td>\n      <td>-4.423508</td>\n      <td>1.648048</td>\n      <td>-6.934388</td>\n      <td>4.894601</td>\n      <td>-5.078131</td>\n      <td>0.010849</td>\n      <td>-3.409096</td>\n      <td>1.409291</td>\n      <td>-3.260672</td>\n      <td>...</td>\n      <td>0.698359</td>\n      <td>0.487478</td>\n      <td>1.228698</td>\n      <td>-0.535217</td>\n      <td>0.388278</td>\n      <td>-0.009466</td>\n      <td>2.300164</td>\n      <td>0.081231</td>\n      <td>648.00</td>\n      <td>1.0</td>\n    </tr>\n    <tr>\n      <th>46998</th>\n      <td>43028</td>\n      <td>-1.109646</td>\n      <td>0.811069</td>\n      <td>-1.138135</td>\n      <td>0.935265</td>\n      <td>-2.330248</td>\n      <td>-0.116106</td>\n      <td>-1.621986</td>\n      <td>0.458028</td>\n      <td>-0.912189</td>\n      <td>...</td>\n      <td>0.641594</td>\n      <td>0.841755</td>\n      <td>0.176728</td>\n      <td>0.081004</td>\n      <td>-0.258899</td>\n      <td>0.707654</td>\n      <td>0.418649</td>\n      <td>0.080756</td>\n      <td>204.27</td>\n      <td>1.0</td>\n    </tr>\n  </tbody>\n</table>\n<p>5 rows × 31 columns</p>\n</div>"
          },
          "metadata": {}
        }
      ]
    },
    {
      "cell_type": "code",
      "source": "new_dataset['Class'].value_counts()",
      "metadata": {
        "trusted": true
      },
      "execution_count": 25,
      "outputs": [
        {
          "execution_count": 25,
          "output_type": "execute_result",
          "data": {
            "text/plain": "0.0    146\n1.0    146\nName: Class, dtype: int64"
          },
          "metadata": {}
        }
      ]
    },
    {
      "cell_type": "code",
      "source": "new_dataset.groupby('Class').mean()",
      "metadata": {
        "trusted": true
      },
      "execution_count": 26,
      "outputs": [
        {
          "execution_count": 26,
          "output_type": "execute_result",
          "data": {
            "text/plain": "               Time        V1        V2         V3        V4        V5  \\\nClass                                                                    \n0.0    27905.787671 -0.061147 -0.023292   0.700256  0.009024 -0.298177   \n1.0    26650.410959 -7.748350  5.502036 -10.507153  6.017631 -5.734345   \n\n             V6        V7        V8        V9  ...       V20       V21  \\\nClass                                          ...                       \n0.0    0.114514 -0.027425  0.020476  0.022845  ...  0.061698 -0.002869   \n1.0   -2.290523 -8.141188  3.800624 -3.626437  ...  0.471417  0.881448   \n\n            V22       V23       V24       V25       V26       V27       V28  \\\nClass                                                                         \n0.0   -0.170760 -0.077145  0.026570  0.125924  0.031585 -0.028835 -0.018473   \n1.0   -0.228124 -0.286066 -0.085893  0.253943  0.167237  0.616539  0.037065   \n\n           Amount  \nClass              \n0.0     97.488699  \n1.0    100.769589  \n\n[2 rows x 30 columns]",
            "text/html": "<div>\n<style scoped>\n    .dataframe tbody tr th:only-of-type {\n        vertical-align: middle;\n    }\n\n    .dataframe tbody tr th {\n        vertical-align: top;\n    }\n\n    .dataframe thead th {\n        text-align: right;\n    }\n</style>\n<table border=\"1\" class=\"dataframe\">\n  <thead>\n    <tr style=\"text-align: right;\">\n      <th></th>\n      <th>Time</th>\n      <th>V1</th>\n      <th>V2</th>\n      <th>V3</th>\n      <th>V4</th>\n      <th>V5</th>\n      <th>V6</th>\n      <th>V7</th>\n      <th>V8</th>\n      <th>V9</th>\n      <th>...</th>\n      <th>V20</th>\n      <th>V21</th>\n      <th>V22</th>\n      <th>V23</th>\n      <th>V24</th>\n      <th>V25</th>\n      <th>V26</th>\n      <th>V27</th>\n      <th>V28</th>\n      <th>Amount</th>\n    </tr>\n    <tr>\n      <th>Class</th>\n      <th></th>\n      <th></th>\n      <th></th>\n      <th></th>\n      <th></th>\n      <th></th>\n      <th></th>\n      <th></th>\n      <th></th>\n      <th></th>\n      <th></th>\n      <th></th>\n      <th></th>\n      <th></th>\n      <th></th>\n      <th></th>\n      <th></th>\n      <th></th>\n      <th></th>\n      <th></th>\n      <th></th>\n    </tr>\n  </thead>\n  <tbody>\n    <tr>\n      <th>0.0</th>\n      <td>27905.787671</td>\n      <td>-0.061147</td>\n      <td>-0.023292</td>\n      <td>0.700256</td>\n      <td>0.009024</td>\n      <td>-0.298177</td>\n      <td>0.114514</td>\n      <td>-0.027425</td>\n      <td>0.020476</td>\n      <td>0.022845</td>\n      <td>...</td>\n      <td>0.061698</td>\n      <td>-0.002869</td>\n      <td>-0.170760</td>\n      <td>-0.077145</td>\n      <td>0.026570</td>\n      <td>0.125924</td>\n      <td>0.031585</td>\n      <td>-0.028835</td>\n      <td>-0.018473</td>\n      <td>97.488699</td>\n    </tr>\n    <tr>\n      <th>1.0</th>\n      <td>26650.410959</td>\n      <td>-7.748350</td>\n      <td>5.502036</td>\n      <td>-10.507153</td>\n      <td>6.017631</td>\n      <td>-5.734345</td>\n      <td>-2.290523</td>\n      <td>-8.141188</td>\n      <td>3.800624</td>\n      <td>-3.626437</td>\n      <td>...</td>\n      <td>0.471417</td>\n      <td>0.881448</td>\n      <td>-0.228124</td>\n      <td>-0.286066</td>\n      <td>-0.085893</td>\n      <td>0.253943</td>\n      <td>0.167237</td>\n      <td>0.616539</td>\n      <td>0.037065</td>\n      <td>100.769589</td>\n    </tr>\n  </tbody>\n</table>\n<p>2 rows × 30 columns</p>\n</div>"
          },
          "metadata": {}
        }
      ]
    },
    {
      "cell_type": "code",
      "source": "# Features and Targets \nx=new_dataset.drop(columns='Class', axis=1)\ny=new_dataset['Class']",
      "metadata": {
        "trusted": true
      },
      "execution_count": 27,
      "outputs": []
    },
    {
      "cell_type": "code",
      "source": "print(x)",
      "metadata": {
        "trusted": true
      },
      "execution_count": 28,
      "outputs": [
        {
          "name": "stdout",
          "text": "        Time        V1        V2        V3        V4        V5        V6  \\\n4097    3740  1.361499 -0.749688 -0.938231 -1.599578  1.437927  3.282170   \n41687  40786  1.239792  0.667875 -0.237056  1.312187  0.026361 -1.198410   \n10963  18846 -2.786739  1.177121 -1.871067  0.276896  1.498751  3.250689   \n11650  19914 -0.615461 -0.081930  1.991635 -1.190977 -0.492837 -1.152643   \n35771  38255  1.513682 -1.202659  0.481476 -1.616405 -1.454961 -0.032725   \n...      ...       ...       ...       ...       ...       ...       ...   \n45203  42247 -2.524012  2.098152 -4.946075  6.456588  3.173921 -3.058806   \n45732  42474 -3.843009  3.375110 -5.492893  6.136378  2.797195 -2.646162   \n46909  42985 -4.075975  0.963031 -5.076070  4.955963 -0.161437 -2.832663   \n46918  42988 -4.423508  1.648048 -6.934388  4.894601 -5.078131  0.010849   \n46998  43028 -1.109646  0.811069 -1.138135  0.935265 -2.330248 -0.116106   \n\n             V7        V8        V9  ...       V20       V21       V22  \\\n4097  -1.143007  0.705001  0.357679  ...  0.264064 -0.265611 -0.909146   \n41687  0.296270 -0.243775 -0.079760  ... -0.106360 -0.052087 -0.079580   \n10963 -1.275831  2.253222  0.196732  ... -0.780919 -0.154338 -0.647102   \n11650 -0.091525 -0.082786  0.505422  ... -0.059904 -0.056311 -0.057602   \n35771 -1.425962  0.101922 -1.680858  ... -0.332310 -0.072219  0.138369   \n...         ...       ...       ...  ...       ...       ...       ...   \n45203 -0.184710 -0.390420 -3.649812  ... -0.162797  0.027935  0.220366   \n45732 -1.668931 -2.617552 -3.945843  ...  0.054796 -1.277812  0.719652   \n46909 -7.619765  1.618895 -2.992092  ...  0.058861  1.030738  0.165328   \n46918 -3.409096  1.409291 -3.260672  ... -0.562264  0.698359  0.487478   \n46998 -1.621986  0.458028 -0.912189  ...  0.168891  0.641594  0.841755   \n\n            V23       V24       V25       V26       V27       V28  Amount  \n4097   0.063063  0.921080  0.349456 -0.510581 -0.023828  0.019032   62.59  \n41687 -0.119029  0.276623  0.690952 -0.327545  0.031817  0.051232    1.00  \n10963  0.280884  0.937590 -0.235676 -0.605432 -0.684001 -0.229846   50.44  \n11650 -0.091410  0.620472  0.022566 -0.461044  0.041413  0.103229   10.00  \n35771 -0.105836 -0.526318  0.394259 -0.066669  0.042027  0.006963   12.00  \n...         ...       ...       ...       ...       ...       ...     ...  \n45203  0.976348 -0.290539  1.161002  0.663954  0.456023 -0.405682    1.00  \n45732  0.451125 -0.258094  0.656129  0.556676  0.739383 -0.203050    1.00  \n46909 -1.017502 -0.477983 -0.304987 -0.106089  1.899714  0.511462    1.00  \n46918  1.228698 -0.535217  0.388278 -0.009466  2.300164  0.081231  648.00  \n46998  0.176728  0.081004 -0.258899  0.707654  0.418649  0.080756  204.27  \n\n[292 rows x 30 columns]\n",
          "output_type": "stream"
        }
      ]
    },
    {
      "cell_type": "code",
      "source": "print(y)",
      "metadata": {
        "trusted": true
      },
      "execution_count": 29,
      "outputs": [
        {
          "name": "stdout",
          "text": "4097     0.0\n41687    0.0\n10963    0.0\n11650    0.0\n35771    0.0\n        ... \n45203    1.0\n45732    1.0\n46909    1.0\n46918    1.0\n46998    1.0\nName: Class, Length: 292, dtype: float64\n",
          "output_type": "stream"
        }
      ]
    },
    {
      "cell_type": "code",
      "source": "X_train, X_test, Y_train, Y_test = train_test_split(x, y, test_size=0.2, stratify=y, random_state=2)",
      "metadata": {
        "trusted": true
      },
      "execution_count": 31,
      "outputs": []
    },
    {
      "cell_type": "code",
      "source": "print(x.shape, X_train.shape, X_test.shape)",
      "metadata": {
        "trusted": true
      },
      "execution_count": 33,
      "outputs": [
        {
          "name": "stdout",
          "text": "(292, 30) (233, 30) (59, 30)\n",
          "output_type": "stream"
        }
      ]
    },
    {
      "cell_type": "code",
      "source": "#Model training \n#Logistic Regression \nmodel = LogisticRegression()",
      "metadata": {
        "trusted": true
      },
      "execution_count": 34,
      "outputs": []
    },
    {
      "cell_type": "code",
      "source": "#Training the logistic Regression Model with Training Data\nmodel.fit(X_train, Y_train)",
      "metadata": {
        "trusted": true
      },
      "execution_count": null,
      "outputs": []
    },
    {
      "cell_type": "code",
      "source": "#Accuracy Score\n# accuracy on training data\nX_train_prediction = model.predict(X_train)\ntraining_data_accuracy = accuracy_score(X_train_prediction, Y_train)",
      "metadata": {
        "trusted": true
      },
      "execution_count": 36,
      "outputs": []
    },
    {
      "cell_type": "code",
      "source": "print('Accuracy on Training data : ', training_data_accuracy)",
      "metadata": {
        "trusted": true
      },
      "execution_count": 37,
      "outputs": [
        {
          "name": "stdout",
          "text": "Accuracy on Training data :  0.9828326180257511\n",
          "output_type": "stream"
        }
      ]
    },
    {
      "cell_type": "code",
      "source": "# accuracy on test data\nX_test_prediction = model.predict(X_test)\ntest_data_accuracy = accuracy_score(X_test_prediction, Y_test)",
      "metadata": {
        "trusted": true
      },
      "execution_count": 38,
      "outputs": []
    },
    {
      "cell_type": "code",
      "source": "print('Accuracy score on Test Data : ', test_data_accuracy)",
      "metadata": {
        "trusted": true
      },
      "execution_count": 39,
      "outputs": [
        {
          "name": "stdout",
          "text": "Accuracy score on Test Data :  0.9661016949152542\n",
          "output_type": "stream"
        }
      ]
    },
    {
      "cell_type": "code",
      "source": "#Accuracy on Training Data: 0.9828326180257511 (98.28%)\n#Accuracy on Test Data: 0.9661016949152542 (96.61%)\n# the model is generalizing well to unseen data",
      "metadata": {
        "trusted": true
      },
      "execution_count": 40,
      "outputs": []
    },
    {
      "cell_type": "code",
      "source": "\ndef make_prediction(features):\n    # Reshape the features to a 2D array\n    features_array = np.asarray(features)\n    features_reshaped = features_array.reshape(1, -1)\n\n    # Make the prediction\n    prediction = model.predict(features_reshaped )\n\n    # Return the prediction result\n    return prediction[0]\n\ndef display_prediction(prediction):\n    if prediction == 0:\n        print('its not a fraud ')\n    else:\n        print('its a fraud ')\n\n# Define the features for prediction\nfeatures = (406,-2.3122265423263,1.95199201064158,-1.60985073229769,3.9979055875468,-0.522187864667764,-1.42654531920595,-2.53738730624579,1.39165724829804,-2.77008927719433,-2.77227214465915,3.20203320709635,-2.89990738849473,-0.595221881324605,-4.28925378244217,0.389724120274487,-1.14074717980657,-2.83005567450437,-0.0168224681808257,0.416955705037907,0.126910559061474,0.517232370861764,-0.0350493686052974,-0.465211076182388,0.320198198514526,0.0445191674731724,0.177839798284401,0.261145002567677,-0.143275874698919,0)\ntry:\n    with warnings.catch_warnings():\n        warnings.simplefilter(\"ignore\")\n        prediction = make_prediction(features)\n\n    # Display the prediction\n    display_prediction(prediction)\nexcept Exception as e:\n    print('An error occurred during prediction:', str(e))\n",
      "metadata": {
        "trusted": true
      },
      "execution_count": 45,
      "outputs": [
        {
          "name": "stdout",
          "text": "its a fraud \n",
          "output_type": "stream"
        }
      ]
    },
    {
      "cell_type": "code",
      "source": "",
      "metadata": {},
      "execution_count": null,
      "outputs": []
    }
  ]
}